{
 "cells": [
  {
   "cell_type": "code",
   "execution_count": 1,
   "id": "0a7fc65a",
   "metadata": {},
   "outputs": [
    {
     "name": "stdout",
     "output_type": "stream",
     "text": [
      "Enter the values of the length of a Rectangle:6\n"
     ]
    }
   ],
   "source": [
    "length = int(input(\"Enter the values of the length of a Rectangle:\"))"
   ]
  },
  {
   "cell_type": "code",
   "execution_count": 2,
   "id": "5c605982",
   "metadata": {},
   "outputs": [
    {
     "name": "stdout",
     "output_type": "stream",
     "text": [
      "Enter the vlues of the Rectangle:6\n"
     ]
    }
   ],
   "source": [
    "breadth = int(input(\"Enter the vlues of the Rectangle:\"))"
   ]
  },
  {
   "cell_type": "code",
   "execution_count": 3,
   "id": "3f4b9608",
   "metadata": {},
   "outputs": [
    {
     "name": "stdout",
     "output_type": "stream",
     "text": [
      "It is a square.\n"
     ]
    }
   ],
   "source": [
    "if (length==breadth):\n",
    "        print(\"It is a square.\")\n",
    "else:\n",
    "        print(\"It is not square.\")"
   ]
  },
  {
   "cell_type": "code",
   "execution_count": null,
   "id": "0aeb6a64",
   "metadata": {},
   "outputs": [],
   "source": []
  }
 ],
 "metadata": {
  "kernelspec": {
   "display_name": "Python 3 (ipykernel)",
   "language": "python",
   "name": "python3"
  },
  "language_info": {
   "codemirror_mode": {
    "name": "ipython",
    "version": 3
   },
   "file_extension": ".py",
   "mimetype": "text/x-python",
   "name": "python",
   "nbconvert_exporter": "python",
   "pygments_lexer": "ipython3",
   "version": "3.11.3"
  }
 },
 "nbformat": 4,
 "nbformat_minor": 5
}
